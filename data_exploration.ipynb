{
 "cells": [
  {
   "cell_type": "code",
   "execution_count": 260,
   "id": "78b90cac",
   "metadata": {},
   "outputs": [],
   "source": [
    "import pandas as pd\n",
    "import numpy as np\n",
    "import sklearn.feature_selection as sklearnfs\n",
    "from sklearn.model_selection import train_test_split\n",
    "from sklearn.linear_model import LogisticRegression\n",
    "import matplotlib.pyplot as plt\n",
    "from sklearn.preprocessing import StandardScaler\n",
    "from sklearn.feature_selection import SelectKBest, f_classif\n",
    "from sklearn.impute import SimpleImputer"
   ]
  },
  {
   "cell_type": "code",
   "execution_count": 261,
   "id": "86a24727",
   "metadata": {},
   "outputs": [],
   "source": [
    "data = pd.read_csv('./mma_data/ufc_historical_data.csv')"
   ]
  },
  {
   "cell_type": "code",
   "execution_count": 263,
   "id": "e813d441",
   "metadata": {},
   "outputs": [
    {
     "data": {
      "text/plain": [
       "[RangeIndex(start=0, stop=6012, step=1),\n",
       " Index(['Winner', 'B_avg_KD', 'B_avg_opp_KD', 'B_avg_SIG_STR_pct',\n",
       "        'B_avg_opp_SIG_STR_pct', 'B_avg_TD_pct', 'B_avg_opp_TD_pct',\n",
       "        'B_avg_SUB_ATT', 'B_avg_opp_SUB_ATT', 'B_avg_REV',\n",
       "        ...\n",
       "        'R_win_by_Decision_Unanimous', 'R_win_by_KO/TKO', 'R_win_by_Submission',\n",
       "        'R_win_by_TKO_Doctor_Stoppage', 'R_Stance', 'R_Height_cms',\n",
       "        'R_Reach_cms', 'R_Weight_lbs', 'B_age', 'R_age'],\n",
       "       dtype='object', length=135)]"
      ]
     },
     "execution_count": 263,
     "metadata": {},
     "output_type": "execute_result"
    }
   ],
   "source": [
    "data.axes"
   ]
  },
  {
   "cell_type": "code",
   "execution_count": null,
   "id": "a1181e20",
   "metadata": {},
   "outputs": [],
   "source": [
    "imputer = SimpleImputer(missing_values=np.nan, strategy='median')"
   ]
  },
  {
   "cell_type": "code",
   "execution_count": 262,
   "id": "ffd6c04f",
   "metadata": {},
   "outputs": [],
   "source": [
    "data = data.drop(['R_fighter', 'B_fighter', 'Referee', 'date', 'location', 'title_bout', 'weight_class','B_draw','R_draw'], axis=1)"
   ]
  },
  {
   "cell_type": "code",
   "execution_count": 253,
   "id": "303e3e80",
   "metadata": {},
   "outputs": [],
   "source": [
    "processed_data = pd.read_csv('./mma_data/ufc_historical_data_preprocessed.csv')"
   ]
  },
  {
   "cell_type": "code",
   "execution_count": 255,
   "id": "4ecd474b",
   "metadata": {},
   "outputs": [
    {
     "name": "stdout",
     "output_type": "stream",
     "text": [
      "<class 'pandas.core.frame.DataFrame'>\n",
      "RangeIndex: 5902 entries, 0 to 5901\n",
      "Data columns (total 160 columns):\n",
      " #    Column                           Non-Null Count  Dtype  \n",
      "---   ------                           --------------  -----  \n",
      " 0    Winner                           5902 non-null   object \n",
      " 1    title_bout                       5902 non-null   bool   \n",
      " 2    B_avg_KD                         5902 non-null   float64\n",
      " 3    B_avg_opp_KD                     5902 non-null   float64\n",
      " 4    B_avg_SIG_STR_pct                5902 non-null   float64\n",
      " 5    B_avg_opp_SIG_STR_pct            5902 non-null   float64\n",
      " 6    B_avg_TD_pct                     5902 non-null   float64\n",
      " 7    B_avg_opp_TD_pct                 5902 non-null   float64\n",
      " 8    B_avg_SUB_ATT                    5902 non-null   float64\n",
      " 9    B_avg_opp_SUB_ATT                5902 non-null   float64\n",
      " 10   B_avg_REV                        5902 non-null   float64\n",
      " 11   B_avg_opp_REV                    5902 non-null   float64\n",
      " 12   B_avg_SIG_STR_att                5902 non-null   float64\n",
      " 13   B_avg_SIG_STR_landed             5902 non-null   float64\n",
      " 14   B_avg_opp_SIG_STR_att            5902 non-null   float64\n",
      " 15   B_avg_opp_SIG_STR_landed         5902 non-null   float64\n",
      " 16   B_avg_TOTAL_STR_att              5902 non-null   float64\n",
      " 17   B_avg_TOTAL_STR_landed           5902 non-null   float64\n",
      " 18   B_avg_opp_TOTAL_STR_att          5902 non-null   float64\n",
      " 19   B_avg_opp_TOTAL_STR_landed       5902 non-null   float64\n",
      " 20   B_avg_TD_att                     5902 non-null   float64\n",
      " 21   B_avg_TD_landed                  5902 non-null   float64\n",
      " 22   B_avg_opp_TD_att                 5902 non-null   float64\n",
      " 23   B_avg_opp_TD_landed              5902 non-null   float64\n",
      " 24   B_avg_HEAD_att                   5902 non-null   float64\n",
      " 25   B_avg_HEAD_landed                5902 non-null   float64\n",
      " 26   B_avg_opp_HEAD_att               5902 non-null   float64\n",
      " 27   B_avg_opp_HEAD_landed            5902 non-null   float64\n",
      " 28   B_avg_BODY_att                   5902 non-null   float64\n",
      " 29   B_avg_BODY_landed                5902 non-null   float64\n",
      " 30   B_avg_opp_BODY_att               5902 non-null   float64\n",
      " 31   B_avg_opp_BODY_landed            5902 non-null   float64\n",
      " 32   B_avg_LEG_att                    5902 non-null   float64\n",
      " 33   B_avg_LEG_landed                 5902 non-null   float64\n",
      " 34   B_avg_opp_LEG_att                5902 non-null   float64\n",
      " 35   B_avg_opp_LEG_landed             5902 non-null   float64\n",
      " 36   B_avg_DISTANCE_att               5902 non-null   float64\n",
      " 37   B_avg_DISTANCE_landed            5902 non-null   float64\n",
      " 38   B_avg_opp_DISTANCE_att           5902 non-null   float64\n",
      " 39   B_avg_opp_DISTANCE_landed        5902 non-null   float64\n",
      " 40   B_avg_CLINCH_att                 5902 non-null   float64\n",
      " 41   B_avg_CLINCH_landed              5902 non-null   float64\n",
      " 42   B_avg_opp_CLINCH_att             5902 non-null   float64\n",
      " 43   B_avg_opp_CLINCH_landed          5902 non-null   float64\n",
      " 44   B_avg_GROUND_att                 5902 non-null   float64\n",
      " 45   B_avg_GROUND_landed              5902 non-null   float64\n",
      " 46   B_avg_opp_GROUND_att             5902 non-null   float64\n",
      " 47   B_avg_opp_GROUND_landed          5902 non-null   float64\n",
      " 48   B_avg_CTRL_time(seconds)         5902 non-null   float64\n",
      " 49   B_avg_opp_CTRL_time(seconds)     5902 non-null   float64\n",
      " 50   B_total_time_fought(seconds)     5902 non-null   float64\n",
      " 51   B_total_rounds_fought            5902 non-null   int64  \n",
      " 52   B_total_title_bouts              5902 non-null   int64  \n",
      " 53   B_current_win_streak             5902 non-null   int64  \n",
      " 54   B_current_lose_streak            5902 non-null   int64  \n",
      " 55   B_longest_win_streak             5902 non-null   int64  \n",
      " 56   B_wins                           5902 non-null   int64  \n",
      " 57   B_losses                         5902 non-null   int64  \n",
      " 58   B_draw                           5902 non-null   int64  \n",
      " 59   B_win_by_Decision_Majority       5902 non-null   int64  \n",
      " 60   B_win_by_Decision_Split          5902 non-null   int64  \n",
      " 61   B_win_by_Decision_Unanimous      5902 non-null   int64  \n",
      " 62   B_win_by_KO/TKO                  5902 non-null   int64  \n",
      " 63   B_win_by_Submission              5902 non-null   int64  \n",
      " 64   B_win_by_TKO_Doctor_Stoppage     5902 non-null   int64  \n",
      " 65   B_Height_cms                     5902 non-null   float64\n",
      " 66   B_Reach_cms                      5902 non-null   float64\n",
      " 67   B_Weight_lbs                     5902 non-null   float64\n",
      " 68   R_avg_KD                         5902 non-null   float64\n",
      " 69   R_avg_opp_KD                     5902 non-null   float64\n",
      " 70   R_avg_SIG_STR_pct                5902 non-null   float64\n",
      " 71   R_avg_opp_SIG_STR_pct            5902 non-null   float64\n",
      " 72   R_avg_TD_pct                     5902 non-null   float64\n",
      " 73   R_avg_opp_TD_pct                 5902 non-null   float64\n",
      " 74   R_avg_SUB_ATT                    5902 non-null   float64\n",
      " 75   R_avg_opp_SUB_ATT                5902 non-null   float64\n",
      " 76   R_avg_REV                        5902 non-null   float64\n",
      " 77   R_avg_opp_REV                    5902 non-null   float64\n",
      " 78   R_avg_SIG_STR_att                5902 non-null   float64\n",
      " 79   R_avg_SIG_STR_landed             5902 non-null   float64\n",
      " 80   R_avg_opp_SIG_STR_att            5902 non-null   float64\n",
      " 81   R_avg_opp_SIG_STR_landed         5902 non-null   float64\n",
      " 82   R_avg_TOTAL_STR_att              5902 non-null   float64\n",
      " 83   R_avg_TOTAL_STR_landed           5902 non-null   float64\n",
      " 84   R_avg_opp_TOTAL_STR_att          5902 non-null   float64\n",
      " 85   R_avg_opp_TOTAL_STR_landed       5902 non-null   float64\n",
      " 86   R_avg_TD_att                     5902 non-null   float64\n",
      " 87   R_avg_TD_landed                  5902 non-null   float64\n",
      " 88   R_avg_opp_TD_att                 5902 non-null   float64\n",
      " 89   R_avg_opp_TD_landed              5902 non-null   float64\n",
      " 90   R_avg_HEAD_att                   5902 non-null   float64\n",
      " 91   R_avg_HEAD_landed                5902 non-null   float64\n",
      " 92   R_avg_opp_HEAD_att               5902 non-null   float64\n",
      " 93   R_avg_opp_HEAD_landed            5902 non-null   float64\n",
      " 94   R_avg_BODY_att                   5902 non-null   float64\n",
      " 95   R_avg_BODY_landed                5902 non-null   float64\n",
      " 96   R_avg_opp_BODY_att               5902 non-null   float64\n",
      " 97   R_avg_opp_BODY_landed            5902 non-null   float64\n",
      " 98   R_avg_LEG_att                    5902 non-null   float64\n",
      " 99   R_avg_LEG_landed                 5902 non-null   float64\n",
      " 100  R_avg_opp_LEG_att                5902 non-null   float64\n",
      " 101  R_avg_opp_LEG_landed             5902 non-null   float64\n",
      " 102  R_avg_DISTANCE_att               5902 non-null   float64\n",
      " 103  R_avg_DISTANCE_landed            5902 non-null   float64\n",
      " 104  R_avg_opp_DISTANCE_att           5902 non-null   float64\n",
      " 105  R_avg_opp_DISTANCE_landed        5902 non-null   float64\n",
      " 106  R_avg_CLINCH_att                 5902 non-null   float64\n",
      " 107  R_avg_CLINCH_landed              5902 non-null   float64\n",
      " 108  R_avg_opp_CLINCH_att             5902 non-null   float64\n",
      " 109  R_avg_opp_CLINCH_landed          5902 non-null   float64\n",
      " 110  R_avg_GROUND_att                 5902 non-null   float64\n",
      " 111  R_avg_GROUND_landed              5902 non-null   float64\n",
      " 112  R_avg_opp_GROUND_att             5902 non-null   float64\n",
      " 113  R_avg_opp_GROUND_landed          5902 non-null   float64\n",
      " 114  R_avg_CTRL_time(seconds)         5902 non-null   float64\n",
      " 115  R_avg_opp_CTRL_time(seconds)     5902 non-null   float64\n",
      " 116  R_total_time_fought(seconds)     5902 non-null   float64\n",
      " 117  R_total_rounds_fought            5902 non-null   int64  \n",
      " 118  R_total_title_bouts              5902 non-null   int64  \n",
      " 119  R_current_win_streak             5902 non-null   int64  \n",
      " 120  R_current_lose_streak            5902 non-null   int64  \n",
      " 121  R_longest_win_streak             5902 non-null   int64  \n",
      " 122  R_wins                           5902 non-null   int64  \n",
      " 123  R_losses                         5902 non-null   int64  \n",
      " 124  R_draw                           5902 non-null   int64  \n",
      " 125  R_win_by_Decision_Majority       5902 non-null   int64  \n",
      " 126  R_win_by_Decision_Split          5902 non-null   int64  \n",
      " 127  R_win_by_Decision_Unanimous      5902 non-null   int64  \n",
      " 128  R_win_by_KO/TKO                  5902 non-null   int64  \n",
      " 129  R_win_by_Submission              5902 non-null   int64  \n",
      " 130  R_win_by_TKO_Doctor_Stoppage     5902 non-null   int64  \n",
      " 131  R_Height_cms                     5902 non-null   float64\n",
      " 132  R_Reach_cms                      5902 non-null   float64\n",
      " 133  R_Weight_lbs                     5902 non-null   float64\n",
      " 134  B_age                            5902 non-null   float64\n",
      " 135  R_age                            5902 non-null   float64\n",
      " 136  weight_class_Bantamweight        5902 non-null   int64  \n",
      " 137  weight_class_CatchWeight         5902 non-null   int64  \n",
      " 138  weight_class_Featherweight       5902 non-null   int64  \n",
      " 139  weight_class_Flyweight           5902 non-null   int64  \n",
      " 140  weight_class_Heavyweight         5902 non-null   int64  \n",
      " 141  weight_class_LightHeavyweight    5902 non-null   int64  \n",
      " 142  weight_class_Lightweight         5902 non-null   int64  \n",
      " 143  weight_class_Middleweight        5902 non-null   int64  \n",
      " 144  weight_class_OpenWeight          5902 non-null   int64  \n",
      " 145  weight_class_Welterweight        5902 non-null   int64  \n",
      " 146  weight_class_WomenBantamweight   5902 non-null   int64  \n",
      " 147  weight_class_WomenFeatherweight  5902 non-null   int64  \n",
      " 148  weight_class_WomenFlyweight      5902 non-null   int64  \n",
      " 149  weight_class_WomenStrawweight    5902 non-null   int64  \n",
      " 150  B_Stance_Open Stance             5902 non-null   int64  \n",
      " 151  B_Stance_Orthodox                5902 non-null   int64  \n",
      " 152  B_Stance_Sideways                5902 non-null   int64  \n",
      " 153  B_Stance_Southpaw                5902 non-null   int64  \n",
      " 154  B_Stance_Switch                  5902 non-null   int64  \n",
      " 155  R_Stance_Open Stance             5902 non-null   int64  \n",
      " 156  R_Stance_Orthodox                5902 non-null   int64  \n",
      " 157  R_Stance_Sideways                5902 non-null   int64  \n",
      " 158  R_Stance_Southpaw                5902 non-null   int64  \n",
      " 159  R_Stance_Switch                  5902 non-null   int64  \n",
      "dtypes: bool(1), float64(106), int64(52), object(1)\n",
      "memory usage: 7.2+ MB\n"
     ]
    }
   ],
   "source": [
    "processed_data.info(verbose=True, show_counts=True)"
   ]
  },
  {
   "cell_type": "code",
   "execution_count": null,
   "id": "0d2e9894",
   "metadata": {},
   "outputs": [],
   "source": [
    "# check the balance of the data between classes\n",
    "data['Winner'].value_counts()"
   ]
  },
  {
   "cell_type": "code",
   "execution_count": null,
   "id": "75a4b159",
   "metadata": {},
   "outputs": [],
   "source": [
    "data.info(verbose=True, show_counts=True)"
   ]
  },
  {
   "cell_type": "code",
   "execution_count": 191,
   "id": "1cc1fb83",
   "metadata": {},
   "outputs": [],
   "source": [
    "# columns to remove: R_fighter (fighter name), B_fighter(fighter name), Referee (name), date, location\n",
    "data = data.drop(['R_fighter', 'B_fighter', 'Referee', 'date', 'location', 'title_bout', 'weight_class','B_draw','R_draw'], axis=1)"
   ]
  },
  {
   "cell_type": "code",
   "execution_count": 192,
   "id": "6ccb115a",
   "metadata": {},
   "outputs": [],
   "source": [
    "# drop rows with missing values\n",
    "data = data.dropna().copy()"
   ]
  },
  {
   "cell_type": "code",
   "execution_count": 193,
   "id": "faa303e0",
   "metadata": {},
   "outputs": [],
   "source": [
    "# drop fights resulting in draw from dataset \n",
    "data = data[data.Winner != \"Draw\"]"
   ]
  },
  {
   "cell_type": "code",
   "execution_count": 194,
   "id": "66e3c170",
   "metadata": {},
   "outputs": [
    {
     "name": "stdout",
     "output_type": "stream",
     "text": [
      "<class 'pandas.core.frame.DataFrame'>\n",
      "Int64Index: 3845 entries, 0 to 5884\n",
      "Data columns (total 135 columns):\n",
      " #    Column                        Non-Null Count  Dtype  \n",
      "---   ------                        --------------  -----  \n",
      " 0    Winner                        3845 non-null   object \n",
      " 1    B_avg_KD                      3845 non-null   float64\n",
      " 2    B_avg_opp_KD                  3845 non-null   float64\n",
      " 3    B_avg_SIG_STR_pct             3845 non-null   float64\n",
      " 4    B_avg_opp_SIG_STR_pct         3845 non-null   float64\n",
      " 5    B_avg_TD_pct                  3845 non-null   float64\n",
      " 6    B_avg_opp_TD_pct              3845 non-null   float64\n",
      " 7    B_avg_SUB_ATT                 3845 non-null   float64\n",
      " 8    B_avg_opp_SUB_ATT             3845 non-null   float64\n",
      " 9    B_avg_REV                     3845 non-null   float64\n",
      " 10   B_avg_opp_REV                 3845 non-null   float64\n",
      " 11   B_avg_SIG_STR_att             3845 non-null   float64\n",
      " 12   B_avg_SIG_STR_landed          3845 non-null   float64\n",
      " 13   B_avg_opp_SIG_STR_att         3845 non-null   float64\n",
      " 14   B_avg_opp_SIG_STR_landed      3845 non-null   float64\n",
      " 15   B_avg_TOTAL_STR_att           3845 non-null   float64\n",
      " 16   B_avg_TOTAL_STR_landed        3845 non-null   float64\n",
      " 17   B_avg_opp_TOTAL_STR_att       3845 non-null   float64\n",
      " 18   B_avg_opp_TOTAL_STR_landed    3845 non-null   float64\n",
      " 19   B_avg_TD_att                  3845 non-null   float64\n",
      " 20   B_avg_TD_landed               3845 non-null   float64\n",
      " 21   B_avg_opp_TD_att              3845 non-null   float64\n",
      " 22   B_avg_opp_TD_landed           3845 non-null   float64\n",
      " 23   B_avg_HEAD_att                3845 non-null   float64\n",
      " 24   B_avg_HEAD_landed             3845 non-null   float64\n",
      " 25   B_avg_opp_HEAD_att            3845 non-null   float64\n",
      " 26   B_avg_opp_HEAD_landed         3845 non-null   float64\n",
      " 27   B_avg_BODY_att                3845 non-null   float64\n",
      " 28   B_avg_BODY_landed             3845 non-null   float64\n",
      " 29   B_avg_opp_BODY_att            3845 non-null   float64\n",
      " 30   B_avg_opp_BODY_landed         3845 non-null   float64\n",
      " 31   B_avg_LEG_att                 3845 non-null   float64\n",
      " 32   B_avg_LEG_landed              3845 non-null   float64\n",
      " 33   B_avg_opp_LEG_att             3845 non-null   float64\n",
      " 34   B_avg_opp_LEG_landed          3845 non-null   float64\n",
      " 35   B_avg_DISTANCE_att            3845 non-null   float64\n",
      " 36   B_avg_DISTANCE_landed         3845 non-null   float64\n",
      " 37   B_avg_opp_DISTANCE_att        3845 non-null   float64\n",
      " 38   B_avg_opp_DISTANCE_landed     3845 non-null   float64\n",
      " 39   B_avg_CLINCH_att              3845 non-null   float64\n",
      " 40   B_avg_CLINCH_landed           3845 non-null   float64\n",
      " 41   B_avg_opp_CLINCH_att          3845 non-null   float64\n",
      " 42   B_avg_opp_CLINCH_landed       3845 non-null   float64\n",
      " 43   B_avg_GROUND_att              3845 non-null   float64\n",
      " 44   B_avg_GROUND_landed           3845 non-null   float64\n",
      " 45   B_avg_opp_GROUND_att          3845 non-null   float64\n",
      " 46   B_avg_opp_GROUND_landed       3845 non-null   float64\n",
      " 47   B_avg_CTRL_time(seconds)      3845 non-null   float64\n",
      " 48   B_avg_opp_CTRL_time(seconds)  3845 non-null   float64\n",
      " 49   B_total_time_fought(seconds)  3845 non-null   float64\n",
      " 50   B_total_rounds_fought         3845 non-null   int64  \n",
      " 51   B_total_title_bouts           3845 non-null   int64  \n",
      " 52   B_current_win_streak          3845 non-null   int64  \n",
      " 53   B_current_lose_streak         3845 non-null   int64  \n",
      " 54   B_longest_win_streak          3845 non-null   int64  \n",
      " 55   B_wins                        3845 non-null   int64  \n",
      " 56   B_losses                      3845 non-null   int64  \n",
      " 57   B_win_by_Decision_Majority    3845 non-null   int64  \n",
      " 58   B_win_by_Decision_Split       3845 non-null   int64  \n",
      " 59   B_win_by_Decision_Unanimous   3845 non-null   int64  \n",
      " 60   B_win_by_KO/TKO               3845 non-null   int64  \n",
      " 61   B_win_by_Submission           3845 non-null   int64  \n",
      " 62   B_win_by_TKO_Doctor_Stoppage  3845 non-null   int64  \n",
      " 63   B_Stance                      3845 non-null   object \n",
      " 64   B_Height_cms                  3845 non-null   float64\n",
      " 65   B_Reach_cms                   3845 non-null   float64\n",
      " 66   B_Weight_lbs                  3845 non-null   float64\n",
      " 67   R_avg_KD                      3845 non-null   float64\n",
      " 68   R_avg_opp_KD                  3845 non-null   float64\n",
      " 69   R_avg_SIG_STR_pct             3845 non-null   float64\n",
      " 70   R_avg_opp_SIG_STR_pct         3845 non-null   float64\n",
      " 71   R_avg_TD_pct                  3845 non-null   float64\n",
      " 72   R_avg_opp_TD_pct              3845 non-null   float64\n",
      " 73   R_avg_SUB_ATT                 3845 non-null   float64\n",
      " 74   R_avg_opp_SUB_ATT             3845 non-null   float64\n",
      " 75   R_avg_REV                     3845 non-null   float64\n",
      " 76   R_avg_opp_REV                 3845 non-null   float64\n",
      " 77   R_avg_SIG_STR_att             3845 non-null   float64\n",
      " 78   R_avg_SIG_STR_landed          3845 non-null   float64\n",
      " 79   R_avg_opp_SIG_STR_att         3845 non-null   float64\n",
      " 80   R_avg_opp_SIG_STR_landed      3845 non-null   float64\n",
      " 81   R_avg_TOTAL_STR_att           3845 non-null   float64\n",
      " 82   R_avg_TOTAL_STR_landed        3845 non-null   float64\n",
      " 83   R_avg_opp_TOTAL_STR_att       3845 non-null   float64\n",
      " 84   R_avg_opp_TOTAL_STR_landed    3845 non-null   float64\n",
      " 85   R_avg_TD_att                  3845 non-null   float64\n",
      " 86   R_avg_TD_landed               3845 non-null   float64\n",
      " 87   R_avg_opp_TD_att              3845 non-null   float64\n",
      " 88   R_avg_opp_TD_landed           3845 non-null   float64\n",
      " 89   R_avg_HEAD_att                3845 non-null   float64\n",
      " 90   R_avg_HEAD_landed             3845 non-null   float64\n",
      " 91   R_avg_opp_HEAD_att            3845 non-null   float64\n",
      " 92   R_avg_opp_HEAD_landed         3845 non-null   float64\n",
      " 93   R_avg_BODY_att                3845 non-null   float64\n",
      " 94   R_avg_BODY_landed             3845 non-null   float64\n",
      " 95   R_avg_opp_BODY_att            3845 non-null   float64\n",
      " 96   R_avg_opp_BODY_landed         3845 non-null   float64\n",
      " 97   R_avg_LEG_att                 3845 non-null   float64\n",
      " 98   R_avg_LEG_landed              3845 non-null   float64\n",
      " 99   R_avg_opp_LEG_att             3845 non-null   float64\n",
      " 100  R_avg_opp_LEG_landed          3845 non-null   float64\n",
      " 101  R_avg_DISTANCE_att            3845 non-null   float64\n",
      " 102  R_avg_DISTANCE_landed         3845 non-null   float64\n",
      " 103  R_avg_opp_DISTANCE_att        3845 non-null   float64\n",
      " 104  R_avg_opp_DISTANCE_landed     3845 non-null   float64\n",
      " 105  R_avg_CLINCH_att              3845 non-null   float64\n",
      " 106  R_avg_CLINCH_landed           3845 non-null   float64\n",
      " 107  R_avg_opp_CLINCH_att          3845 non-null   float64\n",
      " 108  R_avg_opp_CLINCH_landed       3845 non-null   float64\n",
      " 109  R_avg_GROUND_att              3845 non-null   float64\n",
      " 110  R_avg_GROUND_landed           3845 non-null   float64\n",
      " 111  R_avg_opp_GROUND_att          3845 non-null   float64\n",
      " 112  R_avg_opp_GROUND_landed       3845 non-null   float64\n",
      " 113  R_avg_CTRL_time(seconds)      3845 non-null   float64\n",
      " 114  R_avg_opp_CTRL_time(seconds)  3845 non-null   float64\n",
      " 115  R_total_time_fought(seconds)  3845 non-null   float64\n",
      " 116  R_total_rounds_fought         3845 non-null   int64  \n",
      " 117  R_total_title_bouts           3845 non-null   int64  \n",
      " 118  R_current_win_streak          3845 non-null   int64  \n",
      " 119  R_current_lose_streak         3845 non-null   int64  \n",
      " 120  R_longest_win_streak          3845 non-null   int64  \n",
      " 121  R_wins                        3845 non-null   int64  \n",
      " 122  R_losses                      3845 non-null   int64  \n",
      " 123  R_win_by_Decision_Majority    3845 non-null   int64  \n",
      " 124  R_win_by_Decision_Split       3845 non-null   int64  \n",
      " 125  R_win_by_Decision_Unanimous   3845 non-null   int64  \n",
      " 126  R_win_by_KO/TKO               3845 non-null   int64  \n",
      " 127  R_win_by_Submission           3845 non-null   int64  \n",
      " 128  R_win_by_TKO_Doctor_Stoppage  3845 non-null   int64  \n",
      " 129  R_Stance                      3845 non-null   object \n",
      " 130  R_Height_cms                  3845 non-null   float64\n",
      " 131  R_Reach_cms                   3845 non-null   float64\n",
      " 132  R_Weight_lbs                  3845 non-null   float64\n",
      " 133  B_age                         3845 non-null   float64\n",
      " 134  R_age                         3845 non-null   float64\n",
      "dtypes: float64(106), int64(26), object(3)\n",
      "memory usage: 4.0+ MB\n"
     ]
    },
    {
     "data": {
      "text/plain": [
       "Red     2411\n",
       "Blue    1434\n",
       "Name: Winner, dtype: int64"
      ]
     },
     "execution_count": 194,
     "metadata": {},
     "output_type": "execute_result"
    }
   ],
   "source": [
    "data.info(verbose=True, show_counts=True)\n",
    "data['Winner'].value_counts()"
   ]
  },
  {
   "cell_type": "code",
   "execution_count": 195,
   "id": "e4b41a9b",
   "metadata": {},
   "outputs": [],
   "source": [
    "categorical_cols = ['B_Stance', 'R_Stance']\n",
    "numeric_cols = list(set(data.columns) - set(categorical_cols) - {'Winner'})"
   ]
  },
  {
   "cell_type": "code",
   "execution_count": null,
   "id": "3e937f7d",
   "metadata": {},
   "outputs": [],
   "source": [
    "data.info(verbose=True, show_counts=True)"
   ]
  },
  {
   "cell_type": "code",
   "execution_count": null,
   "id": "9197734e",
   "metadata": {},
   "outputs": [],
   "source": [
    "# potentially take top x features based on anova score given\n",
    "# given by sklearnfs.f_classif\n",
    "fstat, pval = sklearn.feature_selection.f_classif(data[numeric_cols], data['Winner'])"
   ]
  },
  {
   "cell_type": "code",
   "execution_count": 196,
   "id": "4d1e9430",
   "metadata": {},
   "outputs": [],
   "source": [
    "data = pd.get_dummies(data, columns=categorical_cols)"
   ]
  },
  {
   "cell_type": "code",
   "execution_count": null,
   "id": "c390af94",
   "metadata": {},
   "outputs": [],
   "source": [
    "data.info(verbose=True)"
   ]
  },
  {
   "cell_type": "code",
   "execution_count": 197,
   "id": "21b4db25",
   "metadata": {},
   "outputs": [],
   "source": [
    "data_train, data_test = train_test_split(data, test_size=0.2, random_state=888, stratify=data['Winner'])"
   ]
  },
  {
   "cell_type": "code",
   "execution_count": 249,
   "id": "5f77bdb7",
   "metadata": {},
   "outputs": [],
   "source": [
    "categorical_cols = ['B_Stance_Open Stance','B_Stance_Orthodox','B_Stance_Southpaw','B_Stance_Switch','R_Stance_Open Stance', 'R_Stance_Orthodox', 'R_Stance_Southpaw', 'R_Stance_Switch']\n",
    "numeric_cols = list(set(data.columns) - set(categorical_cols) - {'Winner'})\n",
    "\n",
    "selector = SelectKBest(f_classif, k=30)\n",
    "data_train_20best = selector.fit_transform(data_train[numeric_cols], data_train['Winner'])\n",
    "data_train_20best.shape\n",
    "\n",
    "\n",
    "\n",
    "\n",
    "scaler = StandardScaler()\n",
    "scaler.fit(data_train_20best)\n",
    "\n",
    "def get_features_and_target_arrays(df, numeric_cols, cat_cols, scaler):\n",
    "    X_numeric_scaled = scaler.transform(df[numeric_cols])\n",
    "    X_categorical = df[cat_cols].to_numpy()\n",
    "    X = np.hstack((X_categorical, X_numeric_scaled))\n",
    "    y = df['Winner']\n",
    "    return X, y\n",
    "\n",
    "# X, y = get_features_and_target_arrays(data_train, numeric_cols, categorical_cols, scaler)\n",
    "\n",
    "X_numeric_scaled = scaler.transform(data_train_20best)\n",
    "X_categorical = data_train[categorical_cols]\n",
    "X = np.hstack((X_categorical, X_numeric_scaled))\n",
    "y = data_train['Winner']"
   ]
  },
  {
   "cell_type": "code",
   "execution_count": 250,
   "id": "34a387f8",
   "metadata": {},
   "outputs": [
    {
     "data": {
      "text/plain": [
       "LogisticRegression(max_iter=10000, penalty='none')"
      ]
     },
     "execution_count": 250,
     "metadata": {},
     "output_type": "execute_result"
    }
   ],
   "source": [
    "clf = LogisticRegression(penalty='none', max_iter=10000)\n",
    "clf.fit(X_numeric_scaled,y)"
   ]
  },
  {
   "cell_type": "code",
   "execution_count": 251,
   "id": "d2119601",
   "metadata": {},
   "outputs": [],
   "source": [
    "# X_test, y_test = get_features_and_target_arrays(data_test, numeric_cols, categorical_cols, scaler)\n",
    "X_test_num_20 = selector.transform(data_test[numeric_cols])\n",
    "\n",
    "test_scaler = StandardScaler()\n",
    "test_scaler.fit(X_test_num_20)\n",
    "X_test_numeric_scaled = test_scaler.transform(X_test_num_20)\n",
    "X_test_cat = data_test[categorical_cols]\n",
    "X_test = np.hstack((X_test_cat, X_test_numeric_scaled))\n",
    "y_test = data_test['Winner']"
   ]
  },
  {
   "cell_type": "code",
   "execution_count": 252,
   "id": "5d5bce36",
   "metadata": {},
   "outputs": [
    {
     "data": {
      "text/plain": [
       "0.659297789336801"
      ]
     },
     "execution_count": 252,
     "metadata": {},
     "output_type": "execute_result"
    }
   ],
   "source": [
    "clf.score(X_test_numeric_scaled, y_test)"
   ]
  },
  {
   "cell_type": "code",
   "execution_count": 209,
   "id": "9ba5a279",
   "metadata": {},
   "outputs": [],
   "source": [
    "predictions = clf.predict(X_test)"
   ]
  },
  {
   "cell_type": "code",
   "execution_count": 210,
   "id": "2637abf4",
   "metadata": {},
   "outputs": [],
   "source": [
    "from sklearn.metrics import plot_roc_curve, roc_curve, accuracy_score, classification_report, f1_score, multilabel_confusion_matrix, precision_recall_fscore_support, precision_score, recall_score, roc_auc_score, zero_one_loss"
   ]
  },
  {
   "cell_type": "code",
   "execution_count": 211,
   "id": "2a8d8c41",
   "metadata": {},
   "outputs": [
    {
     "data": {
      "text/plain": [
       "0.6436931079323797"
      ]
     },
     "execution_count": 211,
     "metadata": {},
     "output_type": "execute_result"
    }
   ],
   "source": [
    "accuracy_score(y_test, predictions)"
   ]
  },
  {
   "cell_type": "code",
   "execution_count": 212,
   "id": "6eae6ec0",
   "metadata": {},
   "outputs": [
    {
     "name": "stdout",
     "output_type": "stream",
     "text": [
      "              precision    recall  f1-score   support\n",
      "\n",
      "        Blue       0.55      0.25      0.34       287\n",
      "         Red       0.66      0.88      0.76       482\n",
      "\n",
      "    accuracy                           0.64       769\n",
      "   macro avg       0.61      0.56      0.55       769\n",
      "weighted avg       0.62      0.64      0.60       769\n",
      "\n"
     ]
    }
   ],
   "source": [
    "print(classification_report(y_test, predictions))"
   ]
  },
  {
   "cell_type": "code",
   "execution_count": 213,
   "id": "f701550e",
   "metadata": {},
   "outputs": [
    {
     "data": {
      "text/plain": [
       "array([[[423,  59],\n",
       "        [215,  72]],\n",
       "\n",
       "       [[ 72, 215],\n",
       "        [ 59, 423]]])"
      ]
     },
     "execution_count": 213,
     "metadata": {},
     "output_type": "execute_result"
    }
   ],
   "source": [
    "multilabel_confusion_matrix(y_test, predictions)"
   ]
  },
  {
   "cell_type": "code",
   "execution_count": 214,
   "id": "d6bab841",
   "metadata": {},
   "outputs": [
    {
     "data": {
      "text/plain": [
       "0.6596642907745023"
      ]
     },
     "execution_count": 214,
     "metadata": {},
     "output_type": "execute_result"
    }
   ],
   "source": [
    "roc_auc_score(y_test, clf.predict_proba(X_test)[:,1])"
   ]
  },
  {
   "cell_type": "code",
   "execution_count": 215,
   "id": "1e97fd8b",
   "metadata": {},
   "outputs": [],
   "source": [
    "from sklearn.ensemble import RandomForestClassifier"
   ]
  },
  {
   "cell_type": "code",
   "execution_count": 216,
   "id": "73903a40",
   "metadata": {},
   "outputs": [
    {
     "data": {
      "text/plain": [
       "RandomForestClassifier(random_state=888)"
      ]
     },
     "execution_count": 216,
     "metadata": {},
     "output_type": "execute_result"
    }
   ],
   "source": [
    "rf_clf = RandomForestClassifier(random_state=888)\n",
    "rf_clf.fit(X,y)"
   ]
  },
  {
   "cell_type": "code",
   "execution_count": 217,
   "id": "b9f2b729",
   "metadata": {},
   "outputs": [
    {
     "data": {
      "text/plain": [
       "0.6449934980494149"
      ]
     },
     "execution_count": 217,
     "metadata": {},
     "output_type": "execute_result"
    }
   ],
   "source": [
    "rf_clf.score(X_test, y_test)"
   ]
  },
  {
   "cell_type": "code",
   "execution_count": 218,
   "id": "4110c7fb",
   "metadata": {},
   "outputs": [],
   "source": [
    "from sklearn.neighbors import KNeighborsClassifier\n",
    "from sklearn.gaussian_process import GaussianProcessClassifier\n",
    "from sklearn.naive_bayes import GaussianNB\n",
    "from sklearn.svm import SVC\n",
    "from sklearn.gaussian_process.kernels import RBF"
   ]
  },
  {
   "cell_type": "code",
   "execution_count": 220,
   "id": "2f5691b2",
   "metadata": {},
   "outputs": [],
   "source": [
    "knn_clf = KNeighborsClassifier(n_neighbors=5)"
   ]
  },
  {
   "cell_type": "code",
   "execution_count": 221,
   "id": "ffdad568",
   "metadata": {},
   "outputs": [
    {
     "data": {
      "text/plain": [
       "KNeighborsClassifier()"
      ]
     },
     "execution_count": 221,
     "metadata": {},
     "output_type": "execute_result"
    }
   ],
   "source": [
    "knn_clf.fit(X,y)"
   ]
  },
  {
   "cell_type": "code",
   "execution_count": 222,
   "id": "902eb14a",
   "metadata": {},
   "outputs": [
    {
     "data": {
      "text/plain": [
       "0.6293888166449935"
      ]
     },
     "execution_count": 222,
     "metadata": {},
     "output_type": "execute_result"
    }
   ],
   "source": [
    "knn_clf.score(X_test,y_test)"
   ]
  },
  {
   "cell_type": "code",
   "execution_count": 223,
   "id": "884fef22",
   "metadata": {},
   "outputs": [],
   "source": [
    "gpc = GaussianProcessClassifier(kernel = 1.0 * RBF(1.0))"
   ]
  },
  {
   "cell_type": "code",
   "execution_count": 224,
   "id": "3a152222",
   "metadata": {},
   "outputs": [
    {
     "data": {
      "text/plain": [
       "GaussianProcessClassifier(kernel=1**2 * RBF(length_scale=1))"
      ]
     },
     "execution_count": 224,
     "metadata": {},
     "output_type": "execute_result"
    }
   ],
   "source": [
    "gpc.fit(X,y)"
   ]
  },
  {
   "cell_type": "code",
   "execution_count": 225,
   "id": "2bf4e2e5",
   "metadata": {},
   "outputs": [
    {
     "data": {
      "text/plain": [
       "0.6605981794538361"
      ]
     },
     "execution_count": 225,
     "metadata": {},
     "output_type": "execute_result"
    }
   ],
   "source": [
    "gpc.score(X_test,y_test)"
   ]
  },
  {
   "cell_type": "code",
   "execution_count": 226,
   "id": "d31fd3b2",
   "metadata": {},
   "outputs": [
    {
     "data": {
      "text/plain": [
       "GaussianNB()"
      ]
     },
     "execution_count": 226,
     "metadata": {},
     "output_type": "execute_result"
    }
   ],
   "source": [
    "gnb = GaussianNB()\n",
    "gnb.fit(X,y)"
   ]
  },
  {
   "cell_type": "code",
   "execution_count": 227,
   "id": "7f0e9147",
   "metadata": {},
   "outputs": [
    {
     "data": {
      "text/plain": [
       "0.5799739921976593"
      ]
     },
     "execution_count": 227,
     "metadata": {},
     "output_type": "execute_result"
    }
   ],
   "source": [
    "gnb.score(X_test, y_test)"
   ]
  },
  {
   "cell_type": "code",
   "execution_count": 228,
   "id": "0ae2fafe",
   "metadata": {},
   "outputs": [],
   "source": [
    "from sklearn.neural_network import MLPClassifier"
   ]
  },
  {
   "cell_type": "code",
   "execution_count": 229,
   "id": "0cda9998",
   "metadata": {},
   "outputs": [],
   "source": [
    "mlp = MLPClassifier(random_state=1, max_iter=10000).fit(X,y)"
   ]
  },
  {
   "cell_type": "code",
   "execution_count": 230,
   "id": "35a6301f",
   "metadata": {},
   "outputs": [
    {
     "data": {
      "text/plain": [
       "0.5955786736020806"
      ]
     },
     "execution_count": 230,
     "metadata": {},
     "output_type": "execute_result"
    }
   ],
   "source": [
    "mlp.score(X_test, y_test)"
   ]
  },
  {
   "cell_type": "code",
   "execution_count": null,
   "id": "5a8cabed",
   "metadata": {},
   "outputs": [],
   "source": []
  }
 ],
 "metadata": {
  "kernelspec": {
   "display_name": "Python 3 (ipykernel)",
   "language": "python",
   "name": "python3"
  },
  "language_info": {
   "codemirror_mode": {
    "name": "ipython",
    "version": 3
   },
   "file_extension": ".py",
   "mimetype": "text/x-python",
   "name": "python",
   "nbconvert_exporter": "python",
   "pygments_lexer": "ipython3",
   "version": "3.7.4"
  }
 },
 "nbformat": 4,
 "nbformat_minor": 5
}
